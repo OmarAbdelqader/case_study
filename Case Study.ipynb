{
  "metadata": {
    "kernelspec": {
      "name": "python",
      "display_name": "Python (Pyodide)",
      "language": "python"
    },
    "language_info": {
      "codemirror_mode": {
        "name": "python",
        "version": 3
      },
      "file_extension": ".py",
      "mimetype": "text/x-python",
      "name": "python",
      "nbconvert_exporter": "python",
      "pygments_lexer": "ipython3",
      "version": "3.8"
    }
  },
  "nbformat_minor": 5,
  "nbformat": 4,
  "cells": [
    {
      "cell_type": "code",
      "source": "# Import libraries\nimport pandas as pd\nimport numpy as np\nimport matplotlib.pyplot as plt\nimport seaborn as sns",
      "metadata": {
        "trusted": true
      },
      "execution_count": 76,
      "outputs": [
        {
          "ename": "<class 'ModuleNotFoundError'>",
          "evalue": "No module named 'seaborn'",
          "traceback": [
            "\u001b[0;31m---------------------------------------------------------------------------\u001b[0m",
            "\u001b[0;31mModuleNotFoundError\u001b[0m                       Traceback (most recent call last)",
            "Cell \u001b[0;32mIn [76], line 5\u001b[0m\n\u001b[1;32m      3\u001b[0m \u001b[38;5;28;01mimport\u001b[39;00m \u001b[38;5;21;01mnumpy\u001b[39;00m \u001b[38;5;28;01mas\u001b[39;00m \u001b[38;5;21;01mnp\u001b[39;00m\n\u001b[1;32m      4\u001b[0m \u001b[38;5;28;01mimport\u001b[39;00m \u001b[38;5;21;01mmatplotlib\u001b[39;00m\u001b[38;5;21;01m.\u001b[39;00m\u001b[38;5;21;01mpyplot\u001b[39;00m \u001b[38;5;28;01mas\u001b[39;00m \u001b[38;5;21;01mplt\u001b[39;00m\n\u001b[0;32m----> 5\u001b[0m \u001b[38;5;28;01mimport\u001b[39;00m \u001b[38;5;21;01mseaborn\u001b[39;00m \u001b[38;5;28;01mas\u001b[39;00m \u001b[38;5;21;01msns\u001b[39;00m\n",
            "\u001b[0;31mModuleNotFoundError\u001b[0m: No module named 'seaborn'"
          ],
          "output_type": "error"
        }
      ],
      "id": "729125bb"
    },
    {
      "cell_type": "markdown",
      "source": "### Data Assessment Stage",
      "metadata": {},
      "id": "1203930d"
    },
    {
      "cell_type": "code",
      "source": "# Import the data\ndf = pd.read_csv('train.csv')\n# Get a glimpse of the data\ndf.sample(5)",
      "metadata": {
        "trusted": true
      },
      "execution_count": 2,
      "outputs": [
        {
          "execution_count": 2,
          "output_type": "execute_result",
          "data": {
            "text/plain": "     Item_Identifier  Item_Weight Item_Fat_Content  Item_Visibility  \\\n5957           FDE29          NaN          Low Fat         0.142436   \n2836           FDQ59         9.80          Regular         0.056387   \n492            NCP42         8.51          Low Fat         0.016202   \n7165           NCM43          NaN          Low Fat         0.034099   \n6555           FDV43        16.00          Low Fat         0.077290   \n\n                  Item_Type  Item_MRP Outlet_Identifier  \\\n5957           Frozen Foods   62.3878            OUT027   \n2836                 Breads   84.6908            OUT046   \n492               Household  195.2478            OUT017   \n7165                 Others  162.6210            OUT019   \n6555  Fruits and Vegetables   44.5086            OUT017   \n\n      Outlet_Establishment_Year Outlet_Size Outlet_Location_Type  \\\n5957                       1985      Medium               Tier 3   \n2836                       1997       Small               Tier 1   \n492                        2007         NaN               Tier 2   \n7165                       1985       Small               Tier 1   \n6555                       2007         NaN               Tier 2   \n\n            Outlet_Type  Item_Outlet_Sales  \n5957  Supermarket Type3          1514.6950  \n2836  Supermarket Type1           503.3448  \n492   Supermarket Type1          4262.4516  \n7165      Grocery Store           815.6050  \n6555  Supermarket Type1           713.7376  ",
            "text/html": "<div>\n<style scoped>\n    .dataframe tbody tr th:only-of-type {\n        vertical-align: middle;\n    }\n\n    .dataframe tbody tr th {\n        vertical-align: top;\n    }\n\n    .dataframe thead th {\n        text-align: right;\n    }\n</style>\n<table border=\"1\" class=\"dataframe\">\n  <thead>\n    <tr style=\"text-align: right;\">\n      <th></th>\n      <th>Item_Identifier</th>\n      <th>Item_Weight</th>\n      <th>Item_Fat_Content</th>\n      <th>Item_Visibility</th>\n      <th>Item_Type</th>\n      <th>Item_MRP</th>\n      <th>Outlet_Identifier</th>\n      <th>Outlet_Establishment_Year</th>\n      <th>Outlet_Size</th>\n      <th>Outlet_Location_Type</th>\n      <th>Outlet_Type</th>\n      <th>Item_Outlet_Sales</th>\n    </tr>\n  </thead>\n  <tbody>\n    <tr>\n      <th>5957</th>\n      <td>FDE29</td>\n      <td>NaN</td>\n      <td>Low Fat</td>\n      <td>0.142436</td>\n      <td>Frozen Foods</td>\n      <td>62.3878</td>\n      <td>OUT027</td>\n      <td>1985</td>\n      <td>Medium</td>\n      <td>Tier 3</td>\n      <td>Supermarket Type3</td>\n      <td>1514.6950</td>\n    </tr>\n    <tr>\n      <th>2836</th>\n      <td>FDQ59</td>\n      <td>9.80</td>\n      <td>Regular</td>\n      <td>0.056387</td>\n      <td>Breads</td>\n      <td>84.6908</td>\n      <td>OUT046</td>\n      <td>1997</td>\n      <td>Small</td>\n      <td>Tier 1</td>\n      <td>Supermarket Type1</td>\n      <td>503.3448</td>\n    </tr>\n    <tr>\n      <th>492</th>\n      <td>NCP42</td>\n      <td>8.51</td>\n      <td>Low Fat</td>\n      <td>0.016202</td>\n      <td>Household</td>\n      <td>195.2478</td>\n      <td>OUT017</td>\n      <td>2007</td>\n      <td>NaN</td>\n      <td>Tier 2</td>\n      <td>Supermarket Type1</td>\n      <td>4262.4516</td>\n    </tr>\n    <tr>\n      <th>7165</th>\n      <td>NCM43</td>\n      <td>NaN</td>\n      <td>Low Fat</td>\n      <td>0.034099</td>\n      <td>Others</td>\n      <td>162.6210</td>\n      <td>OUT019</td>\n      <td>1985</td>\n      <td>Small</td>\n      <td>Tier 1</td>\n      <td>Grocery Store</td>\n      <td>815.6050</td>\n    </tr>\n    <tr>\n      <th>6555</th>\n      <td>FDV43</td>\n      <td>16.00</td>\n      <td>Low Fat</td>\n      <td>0.077290</td>\n      <td>Fruits and Vegetables</td>\n      <td>44.5086</td>\n      <td>OUT017</td>\n      <td>2007</td>\n      <td>NaN</td>\n      <td>Tier 2</td>\n      <td>Supermarket Type1</td>\n      <td>713.7376</td>\n    </tr>\n  </tbody>\n</table>\n</div>"
          },
          "metadata": {}
        }
      ],
      "id": "1035daae"
    },
    {
      "cell_type": "code",
      "source": "# Get the number of rows and columns\nprint(df.shape, '\\n')\n# Explore the data type and the existence of null values\nprint(df.info())",
      "metadata": {
        "trusted": true
      },
      "execution_count": 3,
      "outputs": [
        {
          "name": "stdout",
          "text": "(8523, 12) \n\n<class 'pandas.core.frame.DataFrame'>\nRangeIndex: 8523 entries, 0 to 8522\nData columns (total 12 columns):\n #   Column                     Non-Null Count  Dtype  \n---  ------                     --------------  -----  \n 0   Item_Identifier            8523 non-null   object \n 1   Item_Weight                7060 non-null   float64\n 2   Item_Fat_Content           8523 non-null   object \n 3   Item_Visibility            8523 non-null   float64\n 4   Item_Type                  8523 non-null   object \n 5   Item_MRP                   8523 non-null   float64\n 6   Outlet_Identifier          8523 non-null   object \n 7   Outlet_Establishment_Year  8523 non-null   int64  \n 8   Outlet_Size                6113 non-null   object \n 9   Outlet_Location_Type       8523 non-null   object \n 10  Outlet_Type                8523 non-null   object \n 11  Item_Outlet_Sales          8523 non-null   float64\ndtypes: float64(4), int64(1), object(7)\nmemory usage: 566.0+ KB\nNone\n",
          "output_type": "stream"
        }
      ],
      "id": "88b43960"
    },
    {
      "cell_type": "code",
      "source": "# Get the unique values of the `Item_Fat_Content` column\ndf['Item_Fat_Content'].unique()",
      "metadata": {
        "trusted": true
      },
      "execution_count": 4,
      "outputs": [
        {
          "execution_count": 4,
          "output_type": "execute_result",
          "data": {
            "text/plain": "array(['Low Fat', 'Regular', 'low fat', 'LF', 'reg'], dtype=object)"
          },
          "metadata": {}
        }
      ],
      "id": "b8113648"
    },
    {
      "cell_type": "code",
      "source": "# Get a glimpse of the outlet types, size and average sales of each of them\ndf.groupby(['Outlet_Type', 'Outlet_Size'])['Item_Outlet_Sales'].mean()",
      "metadata": {
        "trusted": true
      },
      "execution_count": 5,
      "outputs": [
        {
          "execution_count": 5,
          "output_type": "execute_result",
          "data": {
            "text/plain": "Outlet_Type        Outlet_Size\nGrocery Store      Small           340.329723\nSupermarket Type1  High           2298.995256\n                   Medium         2348.354635\n                   Small          2358.343066\nSupermarket Type2  Medium         1995.498739\nSupermarket Type3  Medium         3694.038558\nName: Item_Outlet_Sales, dtype: float64"
          },
          "metadata": {}
        }
      ],
      "id": "3c9c5ae6"
    },
    {
      "cell_type": "markdown",
      "source": "There seem to be no apparant correlation between `Outlet_Size` and `Item_Outlet_Sales`. So, we will depend on the `Outlet_Type` and `Outlet_Location_Type` columns in filling the null values in `Outlet_Size`",
      "metadata": {},
      "id": "9ccaeeb8"
    },
    {
      "cell_type": "code",
      "source": "# We want to find the most redundant outlet_size value\ndf.groupby(['Outlet_Type', 'Outlet_Size'])['Outlet_Size'].count()",
      "metadata": {
        "trusted": true
      },
      "execution_count": 6,
      "outputs": [
        {
          "execution_count": 6,
          "output_type": "execute_result",
          "data": {
            "text/plain": "Outlet_Type        Outlet_Size\nGrocery Store      Small           528\nSupermarket Type1  High            932\n                   Medium          930\n                   Small          1860\nSupermarket Type2  Medium          928\nSupermarket Type3  Medium          935\nName: Outlet_Size, dtype: int64"
          },
          "metadata": {}
        }
      ],
      "id": "0331736e"
    },
    {
      "cell_type": "markdown",
      "source": "#### From the result above,  All Grocery Stores seem to be small in size",
      "metadata": {},
      "id": "345fcc9b"
    },
    {
      "cell_type": "code",
      "source": "# Find the null values in 'Outlet_Size' column and mirror it to the 'Outlet_Type' \ndf[pd.isna(df['Outlet_Size'])].groupby(['Outlet_Type'])['Outlet_Type'].count()",
      "metadata": {
        "trusted": true
      },
      "execution_count": 7,
      "outputs": [
        {
          "execution_count": 7,
          "output_type": "execute_result",
          "data": {
            "text/plain": "Outlet_Type\nGrocery Store         555\nSupermarket Type1    1855\nName: Outlet_Type, dtype: int64"
          },
          "metadata": {}
        }
      ],
      "id": "d7b34cd9"
    },
    {
      "cell_type": "code",
      "source": "# Digging deep to find which 'Outlet_Location_Type' and 'Outlet_Identifier' have the null values\n(df[pd.isna(df['Outlet_Size'])]).groupby(['Outlet_Type', 'Outlet_Location_Type'])['Outlet_Identifier'].count()",
      "metadata": {
        "trusted": true
      },
      "execution_count": 8,
      "outputs": [
        {
          "execution_count": 8,
          "output_type": "execute_result",
          "data": {
            "text/plain": "Outlet_Type        Outlet_Location_Type\nGrocery Store      Tier 3                   555\nSupermarket Type1  Tier 2                  1855\nName: Outlet_Identifier, dtype: int64"
          },
          "metadata": {}
        }
      ],
      "id": "9caf874a"
    },
    {
      "cell_type": "code",
      "source": "# Check if 'Outlet_Size' and 'Outlet_Location_Type' are related to 'Outlet_Type'\ndf.groupby(['Outlet_Type', 'Outlet_Location_Type', 'Outlet_Size'])['Outlet_Size'].count()",
      "metadata": {
        "trusted": true
      },
      "execution_count": 9,
      "outputs": [
        {
          "execution_count": 9,
          "output_type": "execute_result",
          "data": {
            "text/plain": "Outlet_Type        Outlet_Location_Type  Outlet_Size\nGrocery Store      Tier 1                Small          528\nSupermarket Type1  Tier 1                Medium         930\n                                         Small          930\n                   Tier 2                Small          930\n                   Tier 3                High           932\nSupermarket Type2  Tier 3                Medium         928\nSupermarket Type3  Tier 3                Medium         935\nName: Outlet_Size, dtype: int64"
          },
          "metadata": {}
        }
      ],
      "id": "e4b2eec5"
    },
    {
      "cell_type": "markdown",
      "source": "From the result above,  All <b>Type1 Supermarkets</b> and in location <b>Tier 2</b> are having <b>small</b> size. So, we conclude that all null values in `Outlet_Size` column would be filled with <b>Small</b> value",
      "metadata": {},
      "id": "36cba921"
    },
    {
      "cell_type": "markdown",
      "source": "<hr>",
      "metadata": {},
      "id": "76f1ce6b"
    },
    {
      "cell_type": "markdown",
      "source": "### Data Cleaning Stage",
      "metadata": {},
      "id": "0ce58996"
    },
    {
      "cell_type": "markdown",
      "source": "1. Fill the null values in the `Item_Weight` column with the average values of each `Item_Type`\n2. Fill the null values in `Outlet_Size` with <b>Small</b> value\n3. Change the type of `Item_Fat_Content` to <i> boolean</i> value",
      "metadata": {},
      "id": "47269531"
    },
    {
      "cell_type": "code",
      "source": "# Make a copy of our original dataframe to work on it\ndf_copy = df.copy()",
      "metadata": {
        "trusted": true
      },
      "execution_count": 10,
      "outputs": [],
      "id": "0d440aa5"
    },
    {
      "cell_type": "markdown",
      "source": "`1.` Fill the null values in the `Item_Weight` column with the average values of each `Item_Type` ",
      "metadata": {},
      "id": "47f2ec4f"
    },
    {
      "cell_type": "code",
      "source": "df_copy['Item_Weight'] = df_copy.groupby('Item_Type')['Item_Weight'].transform(lambda x: x.fillna(x.mean()))",
      "metadata": {
        "trusted": true
      },
      "execution_count": 11,
      "outputs": [],
      "id": "0a6999ce"
    },
    {
      "cell_type": "code",
      "source": "# Check for the existence of null values in `Item_Weight` column\ndf_copy['Item_Weight'].isna().sum()",
      "metadata": {
        "trusted": true
      },
      "execution_count": 12,
      "outputs": [
        {
          "execution_count": 12,
          "output_type": "execute_result",
          "data": {
            "text/plain": "0"
          },
          "metadata": {}
        }
      ],
      "id": "78cd3d43"
    },
    {
      "cell_type": "markdown",
      "source": "`2.` Fill the null values in `Outlet_Size` with <b>Small</b> value",
      "metadata": {},
      "id": "7c420b09"
    },
    {
      "cell_type": "code",
      "source": "# Fill the null values in Outlet_Size column with Small value\ndf_copy['Outlet_Size'] = df_copy['Outlet_Size'].fillna('Small')",
      "metadata": {
        "trusted": true
      },
      "execution_count": 13,
      "outputs": [],
      "id": "4c456385"
    },
    {
      "cell_type": "code",
      "source": "# Check the existence of null values\ndf_copy['Outlet_Size'].isna().sum()",
      "metadata": {
        "trusted": true
      },
      "execution_count": 14,
      "outputs": [
        {
          "execution_count": 14,
          "output_type": "execute_result",
          "data": {
            "text/plain": "0"
          },
          "metadata": {}
        }
      ],
      "id": "5ea0cb83"
    },
    {
      "cell_type": "markdown",
      "source": "`3.` Change the type of `Item_Fat_Content` to <i> boolean</i> value",
      "metadata": {},
      "id": "46a76549"
    },
    {
      "cell_type": "code",
      "source": "# Give the value of 0 to 'low fat' values\ndf_copy['Item_Fat_Content'] = df_copy['Item_Fat_Content'].replace({'low fat': 0, 'LF': 0,'Low Fat': 0},\n                                                                  regex=True)",
      "metadata": {
        "trusted": true
      },
      "execution_count": 15,
      "outputs": [],
      "id": "ba4c9416"
    },
    {
      "cell_type": "code",
      "source": "# Change the type of `Item_Fat_Content` column to give True to 'Regular' values and False for 'Low Fat' values\ndf_copy['Item_Fat_Content'] = df_copy['Item_Fat_Content'].astype(bool)",
      "metadata": {
        "trusted": true
      },
      "execution_count": 16,
      "outputs": [],
      "id": "db772304"
    },
    {
      "cell_type": "code",
      "source": "# Validating data type\ndf_copy.info()",
      "metadata": {
        "trusted": true
      },
      "execution_count": 17,
      "outputs": [
        {
          "name": "stdout",
          "text": "<class 'pandas.core.frame.DataFrame'>\nRangeIndex: 8523 entries, 0 to 8522\nData columns (total 12 columns):\n #   Column                     Non-Null Count  Dtype  \n---  ------                     --------------  -----  \n 0   Item_Identifier            8523 non-null   object \n 1   Item_Weight                8523 non-null   float64\n 2   Item_Fat_Content           8523 non-null   bool   \n 3   Item_Visibility            8523 non-null   float64\n 4   Item_Type                  8523 non-null   object \n 5   Item_MRP                   8523 non-null   float64\n 6   Outlet_Identifier          8523 non-null   object \n 7   Outlet_Establishment_Year  8523 non-null   int64  \n 8   Outlet_Size                8523 non-null   object \n 9   Outlet_Location_Type       8523 non-null   object \n 10  Outlet_Type                8523 non-null   object \n 11  Item_Outlet_Sales          8523 non-null   float64\ndtypes: bool(1), float64(4), int64(1), object(6)\nmemory usage: 541.1+ KB\n",
          "output_type": "stream"
        }
      ],
      "id": "3bb37dbe"
    },
    {
      "cell_type": "code",
      "source": "# Validating the count of each kind\n# Count \"low fat\"\nbefore = df.query(\"Item_Fat_Content == 'low fat' or Item_Fat_Content == 'LF' or Item_Fat_Content == 'Low Fat'\")['Item_Fat_Content'].count()\n# Count \"False\"\nafter = df_copy['Item_Fat_Content'].count() - df_copy['Item_Fat_Content'].sum()\n# Compare\nprint(before == after)",
      "metadata": {
        "trusted": true
      },
      "execution_count": 18,
      "outputs": [
        {
          "name": "stdout",
          "text": "True\n",
          "output_type": "stream"
        }
      ],
      "id": "4958e153"
    },
    {
      "cell_type": "markdown",
      "source": "<hr>",
      "metadata": {},
      "id": "f2a13dbe"
    },
    {
      "cell_type": "markdown",
      "source": "### Data Analysing Stage",
      "metadata": {},
      "id": "be2f050e"
    },
    {
      "cell_type": "markdown",
      "source": "1. What is the correlation number of established outlet(s) in each year and find the average sales in each year?\n2. What is the location with highest level of sales?\n3. What is the most successful size of outlets?\n4. What is the prediction of sales in each location for each size of outlets?",
      "metadata": {},
      "id": "818a2727"
    },
    {
      "cell_type": "markdown",
      "source": "##### 1. Find the number of established outlet(s) in each year and find the average sales in each year",
      "metadata": {},
      "id": "dad5b64c"
    },
    {
      "cell_type": "code",
      "source": "# Find the number of established outlet(s) in each year\noutlet_num = pd.DataFrame(df_copy.groupby('Outlet_Establishment_Year')['Outlet_Identifier'].count())\noutlet_num",
      "metadata": {
        "trusted": true
      },
      "execution_count": 19,
      "outputs": [
        {
          "execution_count": 19,
          "output_type": "execute_result",
          "data": {
            "text/plain": "                           Outlet_Identifier\nOutlet_Establishment_Year                   \n1985                                    1463\n1987                                     932\n1997                                     930\n1998                                     555\n1999                                     930\n2002                                     929\n2004                                     930\n2007                                     926\n2009                                     928",
            "text/html": "<div>\n<style scoped>\n    .dataframe tbody tr th:only-of-type {\n        vertical-align: middle;\n    }\n\n    .dataframe tbody tr th {\n        vertical-align: top;\n    }\n\n    .dataframe thead th {\n        text-align: right;\n    }\n</style>\n<table border=\"1\" class=\"dataframe\">\n  <thead>\n    <tr style=\"text-align: right;\">\n      <th></th>\n      <th>Outlet_Identifier</th>\n    </tr>\n    <tr>\n      <th>Outlet_Establishment_Year</th>\n      <th></th>\n    </tr>\n  </thead>\n  <tbody>\n    <tr>\n      <th>1985</th>\n      <td>1463</td>\n    </tr>\n    <tr>\n      <th>1987</th>\n      <td>932</td>\n    </tr>\n    <tr>\n      <th>1997</th>\n      <td>930</td>\n    </tr>\n    <tr>\n      <th>1998</th>\n      <td>555</td>\n    </tr>\n    <tr>\n      <th>1999</th>\n      <td>930</td>\n    </tr>\n    <tr>\n      <th>2002</th>\n      <td>929</td>\n    </tr>\n    <tr>\n      <th>2004</th>\n      <td>930</td>\n    </tr>\n    <tr>\n      <th>2007</th>\n      <td>926</td>\n    </tr>\n    <tr>\n      <th>2009</th>\n      <td>928</td>\n    </tr>\n  </tbody>\n</table>\n</div>"
          },
          "metadata": {}
        }
      ],
      "id": "71a0693e"
    },
    {
      "cell_type": "code",
      "source": "# Find the average outlet sales each year\noutlet_sales = pd.DataFrame(df_copy.groupby('Outlet_Establishment_Year')['Item_Outlet_Sales'].mean())\noutlet_sales",
      "metadata": {
        "trusted": true
      },
      "execution_count": 20,
      "outputs": [
        {
          "execution_count": 20,
          "output_type": "execute_result",
          "data": {
            "text/plain": "                           Item_Outlet_Sales\nOutlet_Establishment_Year                   \n1985                             2483.677474\n1987                             2298.995256\n1997                             2277.844267\n1998                              339.351662\n1999                             2348.354635\n2002                             2192.384798\n2004                             2438.841866\n2007                             2340.675263\n2009                             1995.498739",
            "text/html": "<div>\n<style scoped>\n    .dataframe tbody tr th:only-of-type {\n        vertical-align: middle;\n    }\n\n    .dataframe tbody tr th {\n        vertical-align: top;\n    }\n\n    .dataframe thead th {\n        text-align: right;\n    }\n</style>\n<table border=\"1\" class=\"dataframe\">\n  <thead>\n    <tr style=\"text-align: right;\">\n      <th></th>\n      <th>Item_Outlet_Sales</th>\n    </tr>\n    <tr>\n      <th>Outlet_Establishment_Year</th>\n      <th></th>\n    </tr>\n  </thead>\n  <tbody>\n    <tr>\n      <th>1985</th>\n      <td>2483.677474</td>\n    </tr>\n    <tr>\n      <th>1987</th>\n      <td>2298.995256</td>\n    </tr>\n    <tr>\n      <th>1997</th>\n      <td>2277.844267</td>\n    </tr>\n    <tr>\n      <th>1998</th>\n      <td>339.351662</td>\n    </tr>\n    <tr>\n      <th>1999</th>\n      <td>2348.354635</td>\n    </tr>\n    <tr>\n      <th>2002</th>\n      <td>2192.384798</td>\n    </tr>\n    <tr>\n      <th>2004</th>\n      <td>2438.841866</td>\n    </tr>\n    <tr>\n      <th>2007</th>\n      <td>2340.675263</td>\n    </tr>\n    <tr>\n      <th>2009</th>\n      <td>1995.498739</td>\n    </tr>\n  </tbody>\n</table>\n</div>"
          },
          "metadata": {}
        }
      ],
      "id": "4f7ec0ad"
    },
    {
      "cell_type": "code",
      "source": "# Merging the two dataframes together to be easier in analysis\ngroup = pd.concat([outlet_num, outlet_sales], axis=1)\ngroup",
      "metadata": {
        "trusted": true
      },
      "execution_count": 21,
      "outputs": [
        {
          "execution_count": 21,
          "output_type": "execute_result",
          "data": {
            "text/plain": "                           Outlet_Identifier  Item_Outlet_Sales\nOutlet_Establishment_Year                                      \n1985                                    1463        2483.677474\n1987                                     932        2298.995256\n1997                                     930        2277.844267\n1998                                     555         339.351662\n1999                                     930        2348.354635\n2002                                     929        2192.384798\n2004                                     930        2438.841866\n2007                                     926        2340.675263\n2009                                     928        1995.498739",
            "text/html": "<div>\n<style scoped>\n    .dataframe tbody tr th:only-of-type {\n        vertical-align: middle;\n    }\n\n    .dataframe tbody tr th {\n        vertical-align: top;\n    }\n\n    .dataframe thead th {\n        text-align: right;\n    }\n</style>\n<table border=\"1\" class=\"dataframe\">\n  <thead>\n    <tr style=\"text-align: right;\">\n      <th></th>\n      <th>Outlet_Identifier</th>\n      <th>Item_Outlet_Sales</th>\n    </tr>\n    <tr>\n      <th>Outlet_Establishment_Year</th>\n      <th></th>\n      <th></th>\n    </tr>\n  </thead>\n  <tbody>\n    <tr>\n      <th>1985</th>\n      <td>1463</td>\n      <td>2483.677474</td>\n    </tr>\n    <tr>\n      <th>1987</th>\n      <td>932</td>\n      <td>2298.995256</td>\n    </tr>\n    <tr>\n      <th>1997</th>\n      <td>930</td>\n      <td>2277.844267</td>\n    </tr>\n    <tr>\n      <th>1998</th>\n      <td>555</td>\n      <td>339.351662</td>\n    </tr>\n    <tr>\n      <th>1999</th>\n      <td>930</td>\n      <td>2348.354635</td>\n    </tr>\n    <tr>\n      <th>2002</th>\n      <td>929</td>\n      <td>2192.384798</td>\n    </tr>\n    <tr>\n      <th>2004</th>\n      <td>930</td>\n      <td>2438.841866</td>\n    </tr>\n    <tr>\n      <th>2007</th>\n      <td>926</td>\n      <td>2340.675263</td>\n    </tr>\n    <tr>\n      <th>2009</th>\n      <td>928</td>\n      <td>1995.498739</td>\n    </tr>\n  </tbody>\n</table>\n</div>"
          },
          "metadata": {}
        }
      ],
      "id": "4972a618"
    },
    {
      "cell_type": "code",
      "source": "# Find the correlation between the number of outlets and the average level of sales\ngroup['Outlet_Identifier'].corr(group['Item_Outlet_Sales'])",
      "metadata": {
        "trusted": true
      },
      "execution_count": 22,
      "outputs": [
        {
          "execution_count": 22,
          "output_type": "execute_result",
          "data": {
            "text/plain": "0.7067556231571772"
          },
          "metadata": {}
        }
      ],
      "id": "6897f58c"
    },
    {
      "cell_type": "code",
      "source": "# Plotting the data to figure out the possible relationship between the average sales and number of outlets\nfig, ax = plt.subplots(1, 2, figsize=(12,6))\n\nsns.lineplot(data = group, x = group.index, y = group['Outlet_Identifier'], sort = False, marker='o', ax = ax[0])\nsns.barplot(data= group, x = group.index, y ='Item_Outlet_Sales', ax = ax[1])\n\nax[0].set_xlabel('Year')\nax[1].set_xlabel('Year')\nax[0].set_ylabel('Number of Outlets')\nax[1].set_ylabel('Average Sales')\nax[0].set_title('Number of established outlets (1985-2009)')\nax[1].set_title('Average sales of outlets (1985-2009)')\n\nplt.show()",
      "metadata": {
        "trusted": true
      },
      "execution_count": 23,
      "outputs": [
        {
          "ename": "<class 'NameError'>",
          "evalue": "name 'sns' is not defined",
          "traceback": [
            "\u001b[0;31m---------------------------------------------------------------------------\u001b[0m",
            "\u001b[0;31mNameError\u001b[0m                                 Traceback (most recent call last)",
            "Cell \u001b[0;32mIn [23], line 4\u001b[0m\n\u001b[1;32m      1\u001b[0m \u001b[38;5;66;03m# Plotting the data to figure out the possible relationship between the average sales and number of outlets\u001b[39;00m\n\u001b[1;32m      2\u001b[0m fig, ax \u001b[38;5;241m=\u001b[39m plt\u001b[38;5;241m.\u001b[39msubplots(\u001b[38;5;241m1\u001b[39m, \u001b[38;5;241m2\u001b[39m, figsize\u001b[38;5;241m=\u001b[39m(\u001b[38;5;241m12\u001b[39m,\u001b[38;5;241m6\u001b[39m))\n\u001b[0;32m----> 4\u001b[0m \u001b[43msns\u001b[49m\u001b[38;5;241m.\u001b[39mlineplot(data \u001b[38;5;241m=\u001b[39m group, x \u001b[38;5;241m=\u001b[39m group\u001b[38;5;241m.\u001b[39mindex, y \u001b[38;5;241m=\u001b[39m group[\u001b[38;5;124m'\u001b[39m\u001b[38;5;124mOutlet_Identifier\u001b[39m\u001b[38;5;124m'\u001b[39m], sort \u001b[38;5;241m=\u001b[39m \u001b[38;5;28;01mFalse\u001b[39;00m, marker\u001b[38;5;241m=\u001b[39m\u001b[38;5;124m'\u001b[39m\u001b[38;5;124mo\u001b[39m\u001b[38;5;124m'\u001b[39m, ax \u001b[38;5;241m=\u001b[39m ax[\u001b[38;5;241m0\u001b[39m])\n\u001b[1;32m      5\u001b[0m sns\u001b[38;5;241m.\u001b[39mbarplot(data\u001b[38;5;241m=\u001b[39m group, x \u001b[38;5;241m=\u001b[39m group\u001b[38;5;241m.\u001b[39mindex, y \u001b[38;5;241m=\u001b[39m\u001b[38;5;124m'\u001b[39m\u001b[38;5;124mItem_Outlet_Sales\u001b[39m\u001b[38;5;124m'\u001b[39m, ax \u001b[38;5;241m=\u001b[39m ax[\u001b[38;5;241m1\u001b[39m])\n\u001b[1;32m      7\u001b[0m ax[\u001b[38;5;241m0\u001b[39m]\u001b[38;5;241m.\u001b[39mset_xlabel(\u001b[38;5;124m'\u001b[39m\u001b[38;5;124mYear\u001b[39m\u001b[38;5;124m'\u001b[39m)\n",
            "\u001b[0;31mNameError\u001b[0m: name 'sns' is not defined"
          ],
          "output_type": "error"
        }
      ],
      "id": "bcdb8b99"
    },
    {
      "cell_type": "markdown",
      "source": "A demonstrated in both graphs, the average sales tend to increase as the number of outlets increase. Additionally, the correlation between both variables seems to be high (around 0.71). So, We need to build a regression model to assure the possible amount of increase but the observations are not sufficient to build the model. ",
      "metadata": {},
      "id": "181beb63"
    },
    {
      "cell_type": "markdown",
      "source": "##### 2. What is the location with highest level of sales?",
      "metadata": {},
      "id": "008a4608"
    },
    {
      "cell_type": "code",
      "source": "# Get the average sales of each location\ndf_copy.groupby('Outlet_Location_Type')['Item_Outlet_Sales'].mean()",
      "metadata": {
        "trusted": true
      },
      "execution_count": 24,
      "outputs": [
        {
          "execution_count": 24,
          "output_type": "execute_result",
          "data": {
            "text/plain": "Outlet_Location_Type\nTier 1    1876.909159\nTier 2    2323.990559\nTier 3    2279.627651\nName: Item_Outlet_Sales, dtype: float64"
          },
          "metadata": {}
        }
      ],
      "id": "785b7816"
    },
    {
      "cell_type": "markdown",
      "source": "There seems the <b>'Tier 2'</b> location has the highest average level of sales",
      "metadata": {},
      "id": "f9c14b81"
    },
    {
      "cell_type": "code",
      "source": "# Get the dummy variables of Outlet_Location_Type\ndf_copy[['Tier 1','Tier 2', 'Tier 3']] = pd.get_dummies(df_copy['Outlet_Location_Type'])",
      "metadata": {
        "trusted": true
      },
      "execution_count": 25,
      "outputs": [],
      "id": "b31e95d4"
    },
    {
      "cell_type": "markdown",
      "source": "One of the variables is insignificant, but overall, the level of sales is predicted to be the greatest in <b>'Tier 2'</b> location, followed by <b>'Tier 3'</b>",
      "metadata": {},
      "id": "4e4862f7"
    },
    {
      "cell_type": "markdown",
      "source": "##### 3. What is the most successful size of outlets?",
      "metadata": {},
      "id": "9ea95981"
    },
    {
      "cell_type": "code",
      "source": "# Get the average sales of each size\ndf_copy.groupby('Outlet_Size')['Item_Outlet_Sales'].mean()",
      "metadata": {
        "trusted": true
      },
      "execution_count": 27,
      "outputs": [
        {
          "execution_count": 27,
          "output_type": "execute_result",
          "data": {
            "text/plain": "Outlet_Size\nHigh      2298.995256\nMedium    2681.603542\nSmall     1867.182814\nName: Item_Outlet_Sales, dtype: float64"
          },
          "metadata": {}
        }
      ],
      "id": "775b908e"
    },
    {
      "cell_type": "markdown",
      "source": "There seems the <b>'Medium'</b> size outlet is the most profitable",
      "metadata": {},
      "id": "b21df907"
    },
    {
      "cell_type": "code",
      "source": "# Get the dummy variables of Outlet_Size\ndf_copy[['High','Medium', 'Small']] = pd.get_dummies(df_copy['Outlet_Size'])",
      "metadata": {
        "trusted": true
      },
      "execution_count": 28,
      "outputs": [],
      "id": "abe2d9d6"
    },
    {
      "cell_type": "markdown",
      "source": "Despite the low <b>R<sup>2</sup></b> of the model, our variables are significant. So, We can conclude that the predicted difference of the level of sales between <b>Medium and Large</b> outlet is around 2299 for the <b>Medium</b> size, holding all other variables constant. So, we can predict that the <b>Medium</b> size outlets are the most profitable.",
      "metadata": {},
      "id": "e17b6092"
    },
    {
      "cell_type": "markdown",
      "source": "##### 4. What is the prediction of sales in each location for each size of outlets?",
      "metadata": {},
      "id": "56f70a59"
    },
    {
      "cell_type": "code",
      "source": "# Get the average sales of each size in each location\ndf_copy.groupby(['Outlet_Size','Outlet_Location_Type'])['Item_Outlet_Sales'].mean()",
      "metadata": {
        "trusted": true
      },
      "execution_count": 30,
      "outputs": [
        {
          "execution_count": 30,
          "output_type": "execute_result",
          "data": {
            "text/plain": "Outlet_Size  Outlet_Location_Type\nHigh         Tier 3                  2298.995256\nMedium       Tier 1                  2348.354635\n             Tier 3                  2847.959679\nSmall        Tier 1                  1576.192909\n             Tier 2                  2323.990559\n             Tier 3                   339.351662\nName: Item_Outlet_Sales, dtype: float64"
          },
          "metadata": {}
        }
      ],
      "id": "b683ecc4"
    },
    {
      "cell_type": "markdown",
      "source": "We conclude that, <b>'Tier 1' and 'Tier 2'</b> have no<b> 'High'</b> size outlets. Additionally, <b>'Tier 2'</b> has no <b>'Medium'</b> size outlets",
      "metadata": {},
      "id": "f30b9cf2"
    },
    {
      "cell_type": "markdown",
      "source": "It seems all variables are significant, despite the low R<sup>2</sup>. So, we can predict that outlets with medium size will have higher sales than both small and high sizes by around 1518 and 321.6, respectively, holding all other variables constant. Additionally, we expect Tier 2 region will generate more revenues than both Tier 1 and Tier 3 by around 1038.3 and 1221.5, respectively, holding all other variables constant ",
      "metadata": {},
      "id": "c15f1b65"
    },
    {
      "cell_type": "code",
      "source": "df_copy.sample(5)",
      "metadata": {
        "trusted": true
      },
      "execution_count": 34,
      "outputs": [
        {
          "execution_count": 34,
          "output_type": "execute_result",
          "data": {
            "text/plain": "     Item_Identifier  Item_Weight  Item_Fat_Content  Item_Visibility  \\\n7479           DRI23    18.850000             False         0.137756   \n4908           FDO19    17.700000              True         0.016664   \n3889           FDP16    18.600000             False         0.065772   \n1397           NCZ17    13.142314             False         0.079047   \n5716           NCP42     8.510000             False         0.016143   \n\n                  Item_Type  Item_MRP Outlet_Identifier  \\\n7479            Hard Drinks  161.8578            OUT018   \n4908  Fruits and Vegetables   47.9034            OUT018   \n3889           Frozen Foods  245.7802            OUT010   \n1397     Health and Hygiene   39.8506            OUT027   \n5716              Household  194.2478            OUT045   \n\n      Outlet_Establishment_Year Outlet_Size Outlet_Location_Type  \\\n7479                       2009      Medium               Tier 3   \n4908                       2009      Medium               Tier 3   \n3889                       1998       Small               Tier 3   \n1397                       1985      Medium               Tier 3   \n5716                       2002       Small               Tier 2   \n\n            Outlet_Type  Item_Outlet_Sales  Tier 1  Tier 2  Tier 3  intercept  \\\n7479  Supermarket Type2          3530.0716       0       0       1          1   \n4908  Supermarket Type2           729.0510       0       0       1          1   \n3889      Grocery Store           245.6802       0       0       1          1   \n1397  Supermarket Type3          1480.0734       0       0       1          1   \n5716  Supermarket Type1          2324.9736       0       1       0          1   \n\n      High  Medium  Small  \n7479     0       1      0  \n4908     0       1      0  \n3889     0       0      1  \n1397     0       1      0  \n5716     0       0      1  ",
            "text/html": "<div>\n<style scoped>\n    .dataframe tbody tr th:only-of-type {\n        vertical-align: middle;\n    }\n\n    .dataframe tbody tr th {\n        vertical-align: top;\n    }\n\n    .dataframe thead th {\n        text-align: right;\n    }\n</style>\n<table border=\"1\" class=\"dataframe\">\n  <thead>\n    <tr style=\"text-align: right;\">\n      <th></th>\n      <th>Item_Identifier</th>\n      <th>Item_Weight</th>\n      <th>Item_Fat_Content</th>\n      <th>Item_Visibility</th>\n      <th>Item_Type</th>\n      <th>Item_MRP</th>\n      <th>Outlet_Identifier</th>\n      <th>Outlet_Establishment_Year</th>\n      <th>Outlet_Size</th>\n      <th>Outlet_Location_Type</th>\n      <th>Outlet_Type</th>\n      <th>Item_Outlet_Sales</th>\n      <th>Tier 1</th>\n      <th>Tier 2</th>\n      <th>Tier 3</th>\n      <th>intercept</th>\n      <th>High</th>\n      <th>Medium</th>\n      <th>Small</th>\n    </tr>\n  </thead>\n  <tbody>\n    <tr>\n      <th>7479</th>\n      <td>DRI23</td>\n      <td>18.850000</td>\n      <td>False</td>\n      <td>0.137756</td>\n      <td>Hard Drinks</td>\n      <td>161.8578</td>\n      <td>OUT018</td>\n      <td>2009</td>\n      <td>Medium</td>\n      <td>Tier 3</td>\n      <td>Supermarket Type2</td>\n      <td>3530.0716</td>\n      <td>0</td>\n      <td>0</td>\n      <td>1</td>\n      <td>1</td>\n      <td>0</td>\n      <td>1</td>\n      <td>0</td>\n    </tr>\n    <tr>\n      <th>4908</th>\n      <td>FDO19</td>\n      <td>17.700000</td>\n      <td>True</td>\n      <td>0.016664</td>\n      <td>Fruits and Vegetables</td>\n      <td>47.9034</td>\n      <td>OUT018</td>\n      <td>2009</td>\n      <td>Medium</td>\n      <td>Tier 3</td>\n      <td>Supermarket Type2</td>\n      <td>729.0510</td>\n      <td>0</td>\n      <td>0</td>\n      <td>1</td>\n      <td>1</td>\n      <td>0</td>\n      <td>1</td>\n      <td>0</td>\n    </tr>\n    <tr>\n      <th>3889</th>\n      <td>FDP16</td>\n      <td>18.600000</td>\n      <td>False</td>\n      <td>0.065772</td>\n      <td>Frozen Foods</td>\n      <td>245.7802</td>\n      <td>OUT010</td>\n      <td>1998</td>\n      <td>Small</td>\n      <td>Tier 3</td>\n      <td>Grocery Store</td>\n      <td>245.6802</td>\n      <td>0</td>\n      <td>0</td>\n      <td>1</td>\n      <td>1</td>\n      <td>0</td>\n      <td>0</td>\n      <td>1</td>\n    </tr>\n    <tr>\n      <th>1397</th>\n      <td>NCZ17</td>\n      <td>13.142314</td>\n      <td>False</td>\n      <td>0.079047</td>\n      <td>Health and Hygiene</td>\n      <td>39.8506</td>\n      <td>OUT027</td>\n      <td>1985</td>\n      <td>Medium</td>\n      <td>Tier 3</td>\n      <td>Supermarket Type3</td>\n      <td>1480.0734</td>\n      <td>0</td>\n      <td>0</td>\n      <td>1</td>\n      <td>1</td>\n      <td>0</td>\n      <td>1</td>\n      <td>0</td>\n    </tr>\n    <tr>\n      <th>5716</th>\n      <td>NCP42</td>\n      <td>8.510000</td>\n      <td>False</td>\n      <td>0.016143</td>\n      <td>Household</td>\n      <td>194.2478</td>\n      <td>OUT045</td>\n      <td>2002</td>\n      <td>Small</td>\n      <td>Tier 2</td>\n      <td>Supermarket Type1</td>\n      <td>2324.9736</td>\n      <td>0</td>\n      <td>1</td>\n      <td>0</td>\n      <td>1</td>\n      <td>0</td>\n      <td>0</td>\n      <td>1</td>\n    </tr>\n  </tbody>\n</table>\n</div>"
          },
          "metadata": {}
        }
      ],
      "id": "b045a9d8-bfac-4d27-94c4-c79cadf9338d"
    },
    {
      "cell_type": "markdown",
      "source": "#### 5. Average Item Weight based on Type",
      "metadata": {},
      "id": "794d06bb-3902-4d48-8f14-8037c7c064d6"
    },
    {
      "cell_type": "code",
      "source": "avg_w = df_copy.groupby(['Item_Type'])['Item_Weight'].mean()\navg_w",
      "metadata": {
        "trusted": true
      },
      "execution_count": 57,
      "outputs": [
        {
          "execution_count": 57,
          "output_type": "execute_result",
          "data": {
            "text/plain": "Item_Type\nBaking Goods             12.277108\nBreads                   11.346936\nBreakfast                12.768202\nCanned                   12.305705\nDairy                    13.426069\nFrozen Foods             12.867061\nFruits and Vegetables    13.224769\nHard Drinks              11.400328\nHealth and Hygiene       13.142314\nHousehold                13.384736\nMeat                     12.817344\nOthers                   13.853285\nSeafood                  12.552843\nSnack Foods              12.987880\nSoft Drinks              11.847460\nStarchy Foods            13.690731\nName: Item_Weight, dtype: float64"
          },
          "metadata": {}
        }
      ],
      "id": "e24ea12c-7080-483f-99fb-9c40857bf508"
    },
    {
      "cell_type": "code",
      "source": "avg_w.plot(kind='bar', title='Avg Weight By Type', ylabel='Avg Weight',\n         xlabel='Type')\nplt.show()",
      "metadata": {
        "trusted": true
      },
      "execution_count": 55,
      "outputs": [
        {
          "output_type": "display_data",
          "data": {
            "text/plain": "<pyolite.display.Image at 0x58e3818>",
            "image/png": "[encoded data removed]"
          },
          "metadata": {}
        }
      ],
      "id": "c0f5013a-1936-4d6f-afa6-81cb409bb411"
    },
    {
      "cell_type": "markdown",
      "source": "***Observation:*** Apparently, average item width is consistent (Approx. ~12) regardless of the item type. This can help in outlet planning based on product types - these products are interchangeable and can be sold within the same outlets and transported with identical equipment.",
      "metadata": {},
      "id": "2b0cff57-44ce-42e7-b269-59b19f44f340"
    },
    {
      "cell_type": "markdown",
      "source": "#### W Effect of Item Visibility on Item Sales",
      "metadata": {},
      "id": "05737640-b06c-4883-bb0a-fbb30aa0b70d"
    },
    {
      "cell_type": "code",
      "source": "plt.plot(df_copy['Item_Visibility'].sort_values(), df_copy['Item_Outlet_Sales'])\nplt.title(\"Sales By Item Visibility\")\nplt.xlabel(\"Visibility\")\nplt.ylabel(\"Sales\")\nplt.show()",
      "metadata": {
        "trusted": true
      },
      "execution_count": 74,
      "outputs": [
        {
          "output_type": "display_data",
          "data": {
            "text/plain": "<pyolite.display.Image at 0x9d0b6f0>",
            "image/png": "[encoded data removed]"
          },
          "metadata": {}
        }
      ],
      "id": "c6ac80d5-c5df-4582-bfc0-3e7c0001ccd5"
    },
    {
      "cell_type": "markdown",
      "source": "***Observation:*** While counterintuitive, the data suggests that Visibility is inversely proportional with Sales. This can either mean that the current item visibility tactics are causing an opposite effect, or no effect on product success at all if this is a pure correlation.",
      "metadata": {},
      "id": "a34dbd79-97b8-4ba9-b52a-c0afbdfce3b6"
    }
  ]
}